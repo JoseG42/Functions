{
 "cells": [
  {
   "cell_type": "code",
   "execution_count": null,
   "id": "913cece9",
   "metadata": {},
   "outputs": [],
   "source": [
    "# Hello\n",
    "# define a function 'favorite_color' that takes a name and a color as arguments\n",
    "def favorite_color(name, color):\n",
    "    # message is \" name's favorite color is color \"\n",
    "    message = name + \"'s favorite color is \" + color\n",
    "    # print message\n",
    "    print(message)\n",
    "    # print 'name's favorite color is color'\n",
    "    # print(name,\"'s favorite color is\", color)\n",
    "    # print(f\"{name}'s favorite color is {color}\")"
   ]
  },
  {
   "cell_type": "code",
   "execution_count": 10,
   "id": "01789b22",
   "metadata": {},
   "outputs": [
    {
     "name": "stdout",
     "output_type": "stream",
     "text": [
      "John's favorite color is blue\n",
      "Alice's favorite color is green\n",
      "Jose's favorite color is green\n"
     ]
    }
   ],
   "source": [
    "# Example from the assignment\n",
    "favorite_color('John', 'blue')\n",
    "# Example\n",
    "favorite_color('Alice', 'green')\n",
    "# Example\n",
    "favorite_color('Jose', 'green')\n",
    "# Example with integer inputs\n",
    "# favorite_color(123, 456)"
   ]
  },
  {
   "cell_type": "markdown",
   "id": "7b090373",
   "metadata": {},
   "source": [
    "For some reason I thought the integer inputs would work.\n",
    "\" TypeError: unsupported operand type(s) for +: 'int' and 'str' \"\n",
    "It seems that the method of making the message a variable equal to name plus \"...\" plus color means that the string wants to \"concatenate\" but any integer would want to perform addition resulting in the error.\n"
   ]
  }
 ],
 "metadata": {
  "kernelspec": {
   "display_name": "Python 3",
   "language": "python",
   "name": "python3"
  },
  "language_info": {
   "codemirror_mode": {
    "name": "ipython",
    "version": 3
   },
   "file_extension": ".py",
   "mimetype": "text/x-python",
   "name": "python",
   "nbconvert_exporter": "python",
   "pygments_lexer": "ipython3",
   "version": "3.11.9"
  }
 },
 "nbformat": 4,
 "nbformat_minor": 5
}
