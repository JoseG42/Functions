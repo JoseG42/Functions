{
 "cells": [
  {
   "cell_type": "code",
   "execution_count": 21,
   "id": "8d347948",
   "metadata": {},
   "outputs": [],
   "source": [
    "# Hello\n",
    "# define sunny_activity with one argument 'name'\n",
    "def sunny_activity(name):\n",
    "    # message equals 'Hello ' + name + ', I suggest you go for a walk!'\n",
    "    message = 'Hello ' + name + ', I suggest you go for a walk!'\n",
    "    # print message\n",
    "    print(message)\n",
    "# define rainy_activity with one argument 'name'\n",
    "def rainy_activity(name):\n",
    "    # message equals 'Hello ' + name + ', I suggest you stay in and read a book!'\n",
    "    message = 'Hello ' + name + ', I suggest you stay in and read a book!'\n",
    "    # print message\n",
    "    print(message)\n",
    "# define snowy_activity with one argument 'name'\n",
    "def snowy_activity(name):\n",
    "    # message equals 'Hello ' + name + ', I suggest you build a snowman!'\n",
    "    message = 'Hello ' + name + ', I suggest you build a snowman!'\n",
    "    # print message\n",
    "    print(message)\n",
    "# define activity_suggestion with two arguments 'weather_condition' and 'name'\n",
    "def activity_suggestion(weather_condition, name):\n",
    "    # make sure weather_condition is lowercase\n",
    "    weather_condition = weather_condition.lower()\n",
    "    # remove leading and trailing whitespace from weather_condition\n",
    "    weather_condition = weather_condition.strip()\n",
    "    # if weather_condition is 'sunny'\n",
    "    if weather_condition == 'sunny':\n",
    "        # call sunny_activity with name\n",
    "        sunny_activity(name)\n",
    "    # elif weather_condition is 'rainy'\n",
    "    elif weather_condition == 'rainy':\n",
    "        # call rainy_activity with name\n",
    "        rainy_activity(name)\n",
    "    # elif weather_condition is 'snowy'\n",
    "    elif weather_condition == 'snowy':\n",
    "        # call snowy_activity with name\n",
    "        snowy_activity(name)\n",
    "    # else\n",
    "    else:\n",
    "        # print 'Weather condition not recognized.'\n",
    "        print(\"Weather condition '\" , weather_condition, \"' not recognized, please input 'sunny' or 'rainy' or 'snowy'.\")"
   ]
  },
  {
   "cell_type": "code",
   "execution_count": 22,
   "id": "c4368698",
   "metadata": {},
   "outputs": [
    {
     "name": "stdout",
     "output_type": "stream",
     "text": [
      "Hello Alice, I suggest you go for a walk!\n",
      "Hello Bob, I suggest you stay in and read a book!\n",
      "Hello Charlie, I suggest you build a snowman!\n",
      "Hello Sara, I suggest you build a snowman!\n",
      "Hello Dave, I suggest you stay in and read a book!\n",
      "Hello Eve, I suggest you go for a walk!\n",
      "Weather condition ' windy ' not recognized, please input 'sunny' or 'rainy' or 'snowy'.\n",
      "Weather condition '  ' not recognized, please input 'sunny' or 'rainy' or 'snowy'.\n",
      "Hello , I suggest you go for a walk!\n",
      "Hello sunny, I suggest you go for a walk!\n",
      "Hello rainy, I suggest you stay in and read a book!\n",
      "Hello snowy, I suggest you build a snowman!\n"
     ]
    }
   ],
   "source": [
    "# Example from the assignment sunny alice\n",
    "activity_suggestion('sunny', 'Alice')\n",
    "# Example from the assignment rainy bob\n",
    "activity_suggestion('rainy', 'Bob')\n",
    "# Example from the assignment snowy charlie\n",
    "activity_suggestion('snowy', 'Charlie')\n",
    "# SNOWY Sara\n",
    "activity_suggestion('SNOWY', 'Sara')\n",
    "#   RAINY    Dave\n",
    "# .strip() removes leading and trailing whitespace but not whitespace in the middle of the string\n",
    "activity_suggestion('   RAINY   ', 'Dave')\n",
    "# SuNnY Eve\n",
    "activity_suggestion('SuNnY', 'Eve')\n",
    "# windy Frank\n",
    "activity_suggestion('windy', 'Frank')\n",
    "# empty string gina\n",
    "activity_suggestion('', 'Gina')\n",
    "# sunny empty string\n",
    "activity_suggestion('sunny', '')\n",
    "# sunny sunny\n",
    "activity_suggestion('sunny', 'sunny')\n",
    "# rainy rainy\n",
    "activity_suggestion('rainy', 'rainy')\n",
    "# snowy snowy\n",
    "activity_suggestion('snowy', 'snowy')"
   ]
  },
  {
   "cell_type": "markdown",
   "id": "f224ef72",
   "metadata": {},
   "source": [
    "I tested making the .lower() and .strip() lines comments to verify that they work as intended."
   ]
  }
 ],
 "metadata": {
  "kernelspec": {
   "display_name": "Python 3",
   "language": "python",
   "name": "python3"
  },
  "language_info": {
   "codemirror_mode": {
    "name": "ipython",
    "version": 3
   },
   "file_extension": ".py",
   "mimetype": "text/x-python",
   "name": "python",
   "nbconvert_exporter": "python",
   "pygments_lexer": "ipython3",
   "version": "3.11.9"
  }
 },
 "nbformat": 4,
 "nbformat_minor": 5
}
