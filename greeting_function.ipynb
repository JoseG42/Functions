{
 "cells": [
  {
   "cell_type": "code",
   "execution_count": 1,
   "id": "43b6c211",
   "metadata": {},
   "outputs": [],
   "source": [
    "def greet_guest(name):\n",
    "    # print a greeting message\n",
    "    print(f\"Welcome, {name}! To the Desperado Hotel. We hope you enjoy your stay.\")"
   ]
  },
  {
   "cell_type": "code",
   "execution_count": null,
   "id": "00e79da3",
   "metadata": {},
   "outputs": [
    {
     "name": "stdout",
     "output_type": "stream",
     "text": [
      "Welcome, Ellen! To the Desperado Hotel. We hope you enjoy your stay.\n",
      "Welcome, Corin! To the Desperado Hotel. We hope you enjoy your stay.\n",
      "Welcome, 54! To the Desperado Hotel. We hope you enjoy your stay.\n",
      "Welcome, {'name': 'Ceasar'}! To the Desperado Hotel. We hope you enjoy your stay.\n",
      "Welcome, Ceasar! To the Desperado Hotel. We hope you enjoy your stay.\n",
      "Welcome, []! To the Desperado Hotel. We hope you enjoy your stay.\n",
      "Welcome, ['Anne']! To the Desperado Hotel. We hope you enjoy your stay.\n",
      "Welcome, Anne! To the Desperado Hotel. We hope you enjoy your stay.\n"
     ]
    }
   ],
   "source": [
    "# ellen variable is \"Ellen\"\n",
    "ellen = \"Ellen\"\n",
    "# Call the greet_guest function with different types of arguments\n",
    "greet_guest(ellen)\n",
    "greet_guest('Corin')\n",
    "greet_guest(54)\n",
    "# ceasar dictionary with a name 'Ceasar'\n",
    "ceasar = {\n",
    "    'name' : 'Ceasar',\n",
    "}\n",
    "\n",
    "greet_guest(ceasar) # Not ideal\n",
    "greet_guest(ceasar['name'])\n",
    "# anne list\n",
    "anne = []\n",
    "greet_guest(anne) # Not idea, empty list\n",
    "# Add 'Anne' to the anne list\n",
    "anne.append('Anne')\n",
    "\n",
    "greet_guest(anne) # Still not ideal\n",
    "greet_guest(anne[0])"
   ]
  },
  {
   "cell_type": "markdown",
   "id": "cd00a2e3",
   "metadata": {},
   "source": [
    "the greet guest function is simple, the name parameter seems to work as a variable, string, integer, dictionary, attribute within dictionary, list or value within a list. "
   ]
  }
 ],
 "metadata": {
  "kernelspec": {
   "display_name": "Python 3",
   "language": "python",
   "name": "python3"
  },
  "language_info": {
   "codemirror_mode": {
    "name": "ipython",
    "version": 3
   },
   "file_extension": ".py",
   "mimetype": "text/x-python",
   "name": "python",
   "nbconvert_exporter": "python",
   "pygments_lexer": "ipython3",
   "version": "3.11.9"
  }
 },
 "nbformat": 4,
 "nbformat_minor": 5
}
