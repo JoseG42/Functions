{
 "cells": [
  {
   "cell_type": "code",
   "execution_count": null,
   "id": "e278cee3",
   "metadata": {},
   "outputs": [],
   "source": [
    "#Hello\n",
    "# Define a function that takes two numbers as parameters\n",
    "def add_numbers(a, b):\n",
    "    # Make c equal to the sum of a and b\n",
    "    c = a + b\n",
    "    # print the value of c\n",
    "    print(c)"
   ]
  },
  {
   "cell_type": "code",
   "execution_count": 11,
   "id": "79a0909a",
   "metadata": {},
   "outputs": [
    {
     "name": "stdout",
     "output_type": "stream",
     "text": [
      "8\n",
      "67\n",
      "9\n",
      "twentytwo\n",
      "102\n"
     ]
    }
   ],
   "source": [
    "# three plus five equals eight\n",
    "add_numbers(3, 5)\n",
    "# Twenty four plus fourty three equals sixty seven\n",
    "add_numbers(24, 43)\n",
    "# Eighteen plus negative nine equals nine\n",
    "add_numbers(18, -9)\n",
    "# Inputing strings will just print both strings \"concatenated\"\n",
    "add_numbers('twenty','two')\n",
    "two = 2\n",
    "one_hundred = 100\n",
    "# Adding two variables together\n",
    "add_numbers(two, one_hundred)\n"
   ]
  },
  {
   "cell_type": "markdown",
   "id": "be897bbd",
   "metadata": {},
   "source": [
    "I wonder if there's a way of making the function accept n number of parameters. I'm not gonna bother experimenting with the way the function reacts to lists or dictionaries as parameters just because I feel that any human trying to use \"add_numbers()\" would understand that the parameters should be numbers."
   ]
  }
 ],
 "metadata": {
  "kernelspec": {
   "display_name": "Python 3",
   "language": "python",
   "name": "python3"
  },
  "language_info": {
   "codemirror_mode": {
    "name": "ipython",
    "version": 3
   },
   "file_extension": ".py",
   "mimetype": "text/x-python",
   "name": "python",
   "nbconvert_exporter": "python",
   "pygments_lexer": "ipython3",
   "version": "3.11.9"
  }
 },
 "nbformat": 4,
 "nbformat_minor": 5
}
