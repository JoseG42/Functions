{
 "cells": [
  {
   "cell_type": "code",
   "execution_count": 2,
   "id": "e278cee3",
   "metadata": {},
   "outputs": [],
   "source": [
    "#Hello\n",
    "# Define a function that takes two numbers as parameters\n",
    "def add_numbers(a, b):\n",
    "    # Make c equal to the sum of a and b\n",
    "    c = a + b\n",
    "    # print the value of c\n",
    "    print(c)"
   ]
  },
  {
   "cell_type": "code",
   "execution_count": null,
   "id": "79a0909a",
   "metadata": {},
   "outputs": [
    {
     "name": "stdout",
     "output_type": "stream",
     "text": [
      "8\n",
      "67\n",
      "9\n",
      "twentytwo\n",
      "102\n"
     ]
    },
    {
     "ename": "TypeError",
     "evalue": "unsupported operand type(s) for +: 'int' and 'str'",
     "output_type": "error",
     "traceback": [
      "\u001b[31m---------------------------------------------------------------------------\u001b[39m",
      "\u001b[31mTypeError\u001b[39m                                 Traceback (most recent call last)",
      "\u001b[36mCell\u001b[39m\u001b[36m \u001b[39m\u001b[32mIn[3]\u001b[39m\u001b[32m, line 14\u001b[39m\n\u001b[32m     12\u001b[39m add_numbers(two, one_hundred)\n\u001b[32m     13\u001b[39m \u001b[38;5;66;03m# one integer and one string\u001b[39;00m\n\u001b[32m---> \u001b[39m\u001b[32m14\u001b[39m \u001b[43madd_numbers\u001b[49m\u001b[43m(\u001b[49m\u001b[32;43m1\u001b[39;49m\u001b[43m,\u001b[49m\u001b[43m \u001b[49m\u001b[33;43m'\u001b[39;49m\u001b[33;43mhundred\u001b[39;49m\u001b[33;43m'\u001b[39;49m\u001b[43m)\u001b[49m\n",
      "\u001b[36mCell\u001b[39m\u001b[36m \u001b[39m\u001b[32mIn[2]\u001b[39m\u001b[32m, line 5\u001b[39m, in \u001b[36madd_numbers\u001b[39m\u001b[34m(a, b)\u001b[39m\n\u001b[32m      3\u001b[39m \u001b[38;5;28;01mdef\u001b[39;00m\u001b[38;5;250m \u001b[39m\u001b[34madd_numbers\u001b[39m(a, b):\n\u001b[32m      4\u001b[39m     \u001b[38;5;66;03m# Make c equal to the sum of a and b\u001b[39;00m\n\u001b[32m----> \u001b[39m\u001b[32m5\u001b[39m     c = \u001b[43ma\u001b[49m\u001b[43m \u001b[49m\u001b[43m+\u001b[49m\u001b[43m \u001b[49m\u001b[43mb\u001b[49m\n\u001b[32m      6\u001b[39m     \u001b[38;5;66;03m# print the value of c\u001b[39;00m\n\u001b[32m      7\u001b[39m     \u001b[38;5;28mprint\u001b[39m(c)\n",
      "\u001b[31mTypeError\u001b[39m: unsupported operand type(s) for +: 'int' and 'str'"
     ]
    }
   ],
   "source": [
    "# three plus five equals eight\n",
    "add_numbers(3, 5)\n",
    "# Twenty four plus fourty three equals sixty seven\n",
    "add_numbers(24, 43)\n",
    "# Eighteen plus negative nine equals nine\n",
    "add_numbers(18, -9)\n",
    "# Inputing strings will just print both strings \"concatenated\"\n",
    "add_numbers('twenty','two')\n",
    "two = 2\n",
    "one_hundred = 100\n",
    "# Adding two variables together\n",
    "add_numbers(two, one_hundred)\n",
    "# one integer and one string\n",
    "# add_numbers(1, 'hundred')"
   ]
  },
  {
   "cell_type": "markdown",
   "id": "be897bbd",
   "metadata": {},
   "source": [
    "I wonder if there's a way of making the function accept n number of parameters. I'm not gonna bother experimenting with the way the function reacts to lists or dictionaries as parameters just because I feel that any human trying to use \"add_numbers()\" would understand that the parameters should be numbers."
   ]
  }
 ],
 "metadata": {
  "kernelspec": {
   "display_name": "Python 3",
   "language": "python",
   "name": "python3"
  },
  "language_info": {
   "codemirror_mode": {
    "name": "ipython",
    "version": 3
   },
   "file_extension": ".py",
   "mimetype": "text/x-python",
   "name": "python",
   "nbconvert_exporter": "python",
   "pygments_lexer": "ipython3",
   "version": "3.11.9"
  }
 },
 "nbformat": 4,
 "nbformat_minor": 5
}
