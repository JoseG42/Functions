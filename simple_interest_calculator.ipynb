{
 "cells": [
  {
   "cell_type": "code",
   "execution_count": null,
   "id": "81b633de",
   "metadata": {},
   "outputs": [],
   "source": [
    "# Hello\n",
    "# define calculate_interest function with parameters principal, rate, and time\n",
    "def calculate_interest(principal, rate, time):\n",
    "    # interest equals principal times (rate divided by 100) times time\n",
    "    interest = principal * (rate / 100) * time\n",
    "    # rate_type equals return the type of rate\n",
    "    #rate_type = type(rate)\n",
    "    # print the calculated interest\n",
    "    print('The calculated interest is:', interest)\n",
    "    # print the type of rate\n",
    "    #print('The type of rate is:', rate_type)"
   ]
  },
  {
   "cell_type": "code",
   "execution_count": 8,
   "id": "37ffa35c",
   "metadata": {},
   "outputs": [
    {
     "name": "stdout",
     "output_type": "stream",
     "text": [
      "The calculated interest is: 150.0\n",
      "The type of rate is: <class 'int'>\n",
      "The calculated interest is: 280.0\n",
      "The type of rate is: <class 'int'>\n",
      "The calculated interest is: 337.5\n",
      "The type of rate is: <class 'float'>\n"
     ]
    }
   ],
   "source": [
    "# Example from the assignment\n",
    "calculate_interest(1000, 5, 3)\n",
    "# 2000 principal, 7% rate, and 2 years time equals 280\n",
    "calculate_interest(2000, 7, 2)\n",
    "# 1500 principal, 4.5% rate, and 5 years time equals 337.5\n",
    "calculate_interest(1500, 4.5, 5)\n",
    "# what happens if I use strings instead of numbers?\n",
    "#calculate_interest('1000', '5', '3')"
   ]
  },
  {
   "cell_type": "markdown",
   "id": "c5738e22",
   "metadata": {},
   "source": [
    "using strings appears to cause an error at the (rate/100) part of the operation.\n",
    "\" TypeError: unsupported operand type(s) for /: 'str' and 'int' \"\n",
    "It says 'int' is unsupported as well. does it make the rate a float? No rate is an 'int' in the first two examples."
   ]
  }
 ],
 "metadata": {
  "kernelspec": {
   "display_name": "Python 3",
   "language": "python",
   "name": "python3"
  },
  "language_info": {
   "codemirror_mode": {
    "name": "ipython",
    "version": 3
   },
   "file_extension": ".py",
   "mimetype": "text/x-python",
   "name": "python",
   "nbconvert_exporter": "python",
   "pygments_lexer": "ipython3",
   "version": "3.11.9"
  }
 },
 "nbformat": 4,
 "nbformat_minor": 5
}
